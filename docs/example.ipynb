{
 "cells": [
  {
   "cell_type": "markdown",
   "id": "cd2ff8f3-9a93-45ff-9f39-11f6951aa0d4",
   "metadata": {},
   "source": [
    "<h1 style='text-align: center;'>How to Use Python image_split Package</h1>\n",
    "<h3 style='text-align: center;'>Shouke Wei, Ph.D. Professor<sup>1,2</sup></h3>\n",
    "<h5 style='text-align: center;'><sup>1</sup> Deepsim Intelligence Technology Inc, BC V2T0G9, Abbotsford, Canada</h5>\n",
    "<h5 style='text-align: center;'><sup>2</sup> Deepsim Academy, BC V2T0G9, Abbotsford, Canada</h5>\n",
    "<h5 style='text-align: center;'>Email: shouke.wei@gmail.com</h5>"
   ]
  },
  {
   "cell_type": "code",
   "execution_count": null,
   "id": "a089d70f-c9e9-4263-97be-472566a77f9d",
   "metadata": {},
   "outputs": [],
   "source": []
  },
  {
   "cell_type": "markdown",
   "id": "64bc7f33-34c4-4ba6-b76c-b99bd93563b8",
   "metadata": {},
   "source": [
    "## 1. Brief introduction of the package"
   ]
  },
  {
   "cell_type": "markdown",
   "id": "fea7f4f6-a8e3-4195-86b4-da71de3b2b36",
   "metadata": {},
   "source": [
    "FThe **'image_split'** package provides a convenient tool for splitting image data into separate training, validation, and testing sets. With this package, you can easily manage the distribution of your image dataset for machine learning tasks. The package offers a simple function, **'image_split'**, that takes input and output directories, along with desired split ratios and an optional seed for randomization. The package is designed to streamline the process of data preparation, making it easier to organize and manage image datasets for model training and evaluation.\n",
    "\n",
    "Developed by Shouke Wei, Ph.D. from Deepsim Academy, Deepsim Intelligence Technology Inc. (c) 2023"
   ]
  },
  {
   "cell_type": "markdown",
   "id": "fdc5f86c",
   "metadata": {},
   "source": [
    "## 2. Installation\n",
    "You can easily install it using **'pip'** from your terminal."
   ]
  },
  {
   "cell_type": "markdown",
   "id": "80d1571f",
   "metadata": {},
   "source": [
    "```python\n",
    "pip install image_split\n",
    "```"
   ]
  },
  {
   "cell_type": "markdown",
   "id": "3177f796-2c05-43b8-9ec1-283d1399261a",
   "metadata": {},
   "source": [
    "## 3. Example\n",
    "In this example, let's download a folower dataset from Kaggle by <a href='https://www.kaggle.com/code/rajmehra03/flower-recognition-cnn-keras/input' target='_blank'>this link</a>. After download, unzip the file and put the **'flowers'** folder into your current working directory. "
   ]
  },
  {
   "cell_type": "code",
   "execution_count": 2,
   "id": "224f9a2a",
   "metadata": {},
   "outputs": [
    {
     "name": "stdout",
     "output_type": "stream",
     "text": [
      "Total number of images: 4317\n",
      "Number of images in train set: 3453\n",
      "Number of images in validation set: 431\n",
      "Number of images in test set: 431\n"
     ]
    }
   ],
   "source": [
    "# import split function from the package\n",
    "from image_split import train_val_test_split\n",
    "\n",
    "# Define the path of input data\n",
    "input_dir = './flowers'\n",
    "output_dir = './flowers_split'\n",
    "\n",
    "# specify the split ratios\n",
    "train_ratio = 0.8\n",
    "test_ratio = 0.1\n",
    "val_ratio = 0.1\n",
    "seed = 42\n",
    "\n",
    "# call the function to split the data\n",
    "train_val_test_split(input_dir, output_dir, train_ratio, test_ratio, seed, val_ratio)"
   ]
  },
  {
   "cell_type": "markdown",
   "id": "5944718a",
   "metadata": {},
   "source": [
    "The above results show that there are totally 4317 flower images. There are 3453 images for training, 431 images for validation set and the rest 431 images for testing."
   ]
  }
 ],
 "metadata": {
  "kernelspec": {
   "display_name": "Python 3 (ipykernel)",
   "language": "python",
   "name": "python3"
  },
  "language_info": {
   "codemirror_mode": {
    "name": "ipython",
    "version": 3
   },
   "file_extension": ".py",
   "mimetype": "text/x-python",
   "name": "python",
   "nbconvert_exporter": "python",
   "pygments_lexer": "ipython3",
   "version": "3.11.4"
  },
  "toc": {
   "base_numbering": "",
   "nav_menu": {},
   "number_sections": false,
   "sideBar": true,
   "skip_h1_title": false,
   "title_cell": "Table of Contents",
   "title_sidebar": "Contents",
   "toc_cell": false,
   "toc_position": {
    "height": "calc(100% - 180px)",
    "left": "10px",
    "top": "150px",
    "width": "256px"
   },
   "toc_section_display": true,
   "toc_window_display": false
  },
  "vscode": {
   "interpreter": {
    "hash": "e7e3b838abd1c700ae87169c06aaa45cda39826d3d76842d5152f8fefc86811d"
   }
  }
 },
 "nbformat": 4,
 "nbformat_minor": 5
}
